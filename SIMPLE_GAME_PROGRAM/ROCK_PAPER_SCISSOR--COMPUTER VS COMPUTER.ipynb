{
 "cells": [
  {
   "cell_type": "code",
   "execution_count": 2,
   "id": "0ad12227",
   "metadata": {},
   "outputs": [],
   "source": [
    "#PAPER>ROCK , SCISSOR >PAPER , ROCK >SCISSOR   THIS IS GENERAL RULE FOR THE GAME"
   ]
  },
  {
   "cell_type": "code",
   "execution_count": 3,
   "id": "466d3161",
   "metadata": {},
   "outputs": [],
   "source": [
    "import random,time"
   ]
  },
  {
   "cell_type": "code",
   "execution_count": 10,
   "id": "b309d34b",
   "metadata": {},
   "outputs": [],
   "source": [
    "def rock_paper_scissor():\n",
    "    \n",
    "    print(\" SYMBOLS TO ENTER  : rock - R,scissor - S , paper - P\\n\\n\")\n",
    "    computerji_1=random.choice([\"P\",\"S\",\"R\"])\n",
    "    print(\"COMPUTERJI 1        \",computerji_1)\n",
    "    \n",
    "    time.sleep(1)\n",
    "    \n",
    "    computerji_2=random.choice([\"P\",\"S\",\"R\"])\n",
    "    print(\"COMPUTERJI 1        \",computerji_2)\n",
    "    \n",
    "    if (computerji_1==\"P\" and computerji_2==\"R\" ) or (computerji_1==\"S\" and computerji_2==\"P\" ) \\\n",
    "                                                or (computerji_1==\"R\" and computerji_2==\"S\" ):\n",
    "        print(\"THE computerji 1 HAS WON THE MATCH\")\n",
    "    elif computerji_1==computerji_2:\n",
    "        print(\"\\nTHE MATCH CAME TO TIE\")\n",
    "    else:\n",
    "        print(\"\\nTHE COMPUTERJI 2 HAS WON THE MATCH\")"
   ]
  },
  {
   "cell_type": "code",
   "execution_count": 11,
   "id": "801e2cb1",
   "metadata": {},
   "outputs": [
    {
     "name": "stdout",
     "output_type": "stream",
     "text": [
      " SYMBOLS TO ENTER  : rock - R,scissor - S , paper - P\n",
      "\n",
      "\n",
      "COMPUTERJI 1 R\n",
      "\n",
      "COMPUTERJI 2 P\n",
      "\n",
      "THE COMPUTERJI 2 HAS WON THE MATCH\n"
     ]
    }
   ],
   "source": [
    "rock_paper_scissor()"
   ]
  },
  {
   "cell_type": "code",
   "execution_count": null,
   "id": "7c3e95ed",
   "metadata": {},
   "outputs": [],
   "source": []
  },
  {
   "cell_type": "code",
   "execution_count": null,
   "id": "ce65bb72",
   "metadata": {},
   "outputs": [],
   "source": []
  },
  {
   "cell_type": "code",
   "execution_count": null,
   "id": "c4a20463",
   "metadata": {},
   "outputs": [],
   "source": []
  },
  {
   "cell_type": "code",
   "execution_count": null,
   "id": "4e9ee55b",
   "metadata": {},
   "outputs": [],
   "source": []
  }
 ],
 "metadata": {
  "kernelspec": {
   "display_name": "pandas_venv",
   "language": "python",
   "name": "pandas_venv"
  },
  "language_info": {
   "codemirror_mode": {
    "name": "ipython",
    "version": 3
   },
   "file_extension": ".py",
   "mimetype": "text/x-python",
   "name": "python",
   "nbconvert_exporter": "python",
   "pygments_lexer": "ipython3",
   "version": "3.10.1"
  }
 },
 "nbformat": 4,
 "nbformat_minor": 5
}
