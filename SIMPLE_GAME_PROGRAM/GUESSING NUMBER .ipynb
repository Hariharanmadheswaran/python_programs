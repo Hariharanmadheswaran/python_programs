{
 "cells": [
  {
   "cell_type": "code",
   "execution_count": 1,
   "id": "2fe8bb08",
   "metadata": {},
   "outputs": [],
   "source": [
    "import random,time"
   ]
  },
  {
   "cell_type": "markdown",
   "id": "8a069b2e",
   "metadata": {},
   "source": [
    "# BY HUMAN USER"
   ]
  },
  {
   "cell_type": "code",
   "execution_count": 4,
   "id": "e3fc5fe1",
   "metadata": {},
   "outputs": [
    {
     "name": "stdout",
     "output_type": "stream",
     "text": [
      "GUESS NUMBER BETWEEN 1 TO 20\n",
      "8\n",
      "LESSER THAN GUESSING NUMBER\n",
      "\n",
      "GUESS NUMBER BETWEEN 1 TO 20\n",
      "15\n",
      "LARGER THAN GUESSING NUMBER\n",
      "\n",
      "GUESS NUMBER BETWEEN 1 TO 20\n",
      "13\n",
      "\n",
      "\n",
      "HURRAY ,YOU GOT THE GUESS NUMBER\n"
     ]
    }
   ],
   "source": [
    "target=random.randint(1,20)\n",
    "while True:\n",
    "    print(\"GUESS NUMBER BETWEEN 1 TO 20\")\n",
    "    user=int(input())\n",
    "    time.sleep(1)\n",
    "    if user>target:\n",
    "        print(\"LARGER THAN GUESSING NUMBER\\n\")\n",
    "    elif user<target:\n",
    "         print(\"LESSER THAN GUESSING NUMBER\\n\")\n",
    "    else:\n",
    "        print(\"\\n\\nHURRAY ,YOU GOT THE GUESS NUMBER\")\n",
    "        break"
   ]
  },
  {
   "cell_type": "code",
   "execution_count": null,
   "id": "6550f028",
   "metadata": {},
   "outputs": [],
   "source": []
  },
  {
   "cell_type": "markdown",
   "id": "e1006472",
   "metadata": {},
   "source": [
    "# BY COMPUTER"
   ]
  },
  {
   "cell_type": "code",
   "execution_count": 8,
   "id": "b66d4e51",
   "metadata": {},
   "outputs": [
    {
     "name": "stdout",
     "output_type": "stream",
     "text": [
      "GUESS NUMBER BETWEEN 1 TO 20\n",
      "\n",
      "\n",
      "\n",
      "COMPUTER GUESSING  NUMBER    9 1 20\n",
      "LESSER THAN GUESSING NUMBER\n",
      "\n",
      "COMPUTER GUESSING  NUMBER    15 10 20\n",
      "LESSER THAN GUESSING NUMBER\n",
      "\n",
      "COMPUTER GUESSING  NUMBER    19 16 20\n",
      "COMPUTER YOU PREDICTED THE GUESSING NUMBER\n"
     ]
    }
   ],
   "source": [
    "target=random.randint(1,20)\n",
    "up=20\n",
    "low=1\n",
    "print(\"GUESS NUMBER BETWEEN 1 TO 20\\n\\n\")\n",
    "while True:\n",
    "    print(\"\\nCOMPUTER GUESSING  NUMBER \",end=\"   \")\n",
    "    computerji=random.randint(low,up)\n",
    "    print(computerji,low,up)\n",
    "    time\n",
    "    \n",
    "    if computerji>target:\n",
    "        print(\"LARGER THAN GUESSING NUMBER\")\n",
    "#         print(low,up)\n",
    "        up=computerji-1\n",
    "        time.sleep(1)\n",
    "        \n",
    "    elif computerji<target:\n",
    "        print(\"LESSER THAN GUESSING NUMBER\")\n",
    "#         print(low,up)\n",
    "        low=computerji+1\n",
    "        time.sleep(1)\n",
    "    else:\n",
    "        print(\"COMPUTER YOU PREDICTED THE GUESSING NUMBER\")\n",
    "        break"
   ]
  },
  {
   "cell_type": "code",
   "execution_count": null,
   "id": "5e9703c6",
   "metadata": {},
   "outputs": [],
   "source": []
  }
 ],
 "metadata": {
  "kernelspec": {
   "display_name": "pandas_venv",
   "language": "python",
   "name": "pandas_venv"
  },
  "language_info": {
   "codemirror_mode": {
    "name": "ipython",
    "version": 3
   },
   "file_extension": ".py",
   "mimetype": "text/x-python",
   "name": "python",
   "nbconvert_exporter": "python",
   "pygments_lexer": "ipython3",
   "version": "3.10.1"
  }
 },
 "nbformat": 4,
 "nbformat_minor": 5
}
