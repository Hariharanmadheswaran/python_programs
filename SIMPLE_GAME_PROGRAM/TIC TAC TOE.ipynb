{
 "cells": [
  {
   "cell_type": "code",
   "execution_count": 1,
   "id": "46c63a3d",
   "metadata": {},
   "outputs": [],
   "source": [
    "import random"
   ]
  },
  {
   "cell_type": "code",
   "execution_count": 2,
   "id": "25113816",
   "metadata": {},
   "outputs": [],
   "source": [
    "def tictac():\n",
    "    val=0\n",
    "    for i in range(3):\n",
    "        for j in range(3):\n",
    "            print(\"|\",arr[val],\"|\",end=\"\")\n",
    "            val+=1\n",
    "        print()"
   ]
  },
  {
   "cell_type": "code",
   "execution_count": 3,
   "id": "1176a457",
   "metadata": {},
   "outputs": [
    {
     "name": "stdout",
     "output_type": "stream",
     "text": [
      "| 0 || 1 || 2 |\n",
      "| 3 || 4 || 5 |\n",
      "| 6 || 7 || 8 |\n"
     ]
    }
   ],
   "source": [
    "arr=[i for i in range(9)]\n",
    "index=[i for i in range(len(arr)) if type(arr[i])==int ]\n",
    "tictac()"
   ]
  },
  {
   "cell_type": "code",
   "execution_count": 4,
   "id": "059bd54a",
   "metadata": {},
   "outputs": [],
   "source": [
    "def check_for_win(user,symbol):\n",
    "    row=user//3\n",
    "    if all([arr[i]==symbol for i in range(len(arr)) if i%3==user%3]):    #for column\n",
    "        return True \n",
    "    \n",
    "    elif all([i==symbol for i in arr[row:row+3] ]):\n",
    "        return True \n",
    "    \n",
    "    elif all([arr[i]==symbol for i in [2,4,6]])  or all([arr[i]==symbol for i in [0,4,8]]):\n",
    "        return True \n",
    "    \n",
    "    return False"
   ]
  },
  {
   "cell_type": "code",
   "execution_count": 5,
   "id": "b11e6210",
   "metadata": {},
   "outputs": [
    {
     "name": "stdout",
     "output_type": "stream",
     "text": [
      "| 0 || 1 || 2 |\n",
      "| 3 || 4 || 5 |\n",
      "| 6 || 7 || 8 |\n",
      "\n",
      " your turn :\n",
      "4\n",
      "\n",
      "\n",
      "| 0 || 1 || 2 |\n",
      "| O || x || 5 |\n",
      "| 6 || 7 || 8 |\n",
      "\n",
      " your turn :\n",
      "0\n",
      "\n",
      "\n",
      "| x || 1 || 2 |\n",
      "| O || x || 5 |\n",
      "| 6 || O || 8 |\n",
      "\n",
      " your turn :\n",
      "2\n",
      "\n",
      "\n",
      "| x || 1 || x |\n",
      "| O || x || O |\n",
      "| 6 || O || 8 |\n",
      "\n",
      " your turn :\n",
      "1\n",
      "| x || x || x |\n",
      "| O || x || O |\n",
      "| 6 || O || 8 |\n",
      "HEY USER, YOU WON THE GAME\n"
     ]
    }
   ],
   "source": [
    "arr=[i for i in range(9)]\n",
    "index=[i for i in range(len(arr)) if type(arr[i])==int ]\n",
    "while index!=[]:\n",
    "    tictac()    #printing the game\n",
    "    print(\"\\n your turn :\")\n",
    "    user=int(input())\n",
    "    arr[user]=\"x\"\n",
    "    if check_for_win(user,symbol=\"x\"):\n",
    "        tictac() \n",
    "        print(\"HEY USER, YOU WON THE GAME\")\n",
    "        break\n",
    "    print(\"\\n\")\n",
    "    index=[i for i in range(len(arr)) if type(arr[i])==int ]\n",
    "    if index==[]:\n",
    "        print(\"THE INTENSE MATCH CAME TO DRAW MORE\")\n",
    "        break\n",
    "    computer=random.choice(index)\n",
    "    arr[computer]=\"O\"\n",
    "    if check_for_win(computer,symbol=\"O\"):\n",
    "        tictac() \n",
    "        print(\"SORRY , BETTER LUCK NEXT TIME....\")\n",
    "        break \n",
    "    if len(index)==1:\n",
    "        print(\"THE INTENSE MATCH CAME TO DRAW ,SO ONE MORE\")\n",
    "        break"
   ]
  },
  {
   "cell_type": "code",
   "execution_count": null,
   "id": "55e42240",
   "metadata": {},
   "outputs": [],
   "source": []
  }
 ],
 "metadata": {
  "kernelspec": {
   "display_name": "pandas_venv",
   "language": "python",
   "name": "pandas_venv"
  },
  "language_info": {
   "codemirror_mode": {
    "name": "ipython",
    "version": 3
   },
   "file_extension": ".py",
   "mimetype": "text/x-python",
   "name": "python",
   "nbconvert_exporter": "python",
   "pygments_lexer": "ipython3",
   "version": "3.10.1"
  }
 },
 "nbformat": 4,
 "nbformat_minor": 5
}
