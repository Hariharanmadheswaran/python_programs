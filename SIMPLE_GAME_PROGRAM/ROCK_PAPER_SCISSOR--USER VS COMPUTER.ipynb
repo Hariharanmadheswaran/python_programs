{
 "cells": [
  {
   "cell_type": "code",
   "execution_count": 1,
   "id": "23a24b35",
   "metadata": {},
   "outputs": [],
   "source": [
    "#PAPER>ROCK , SCISSOR >PAPER , ROCK >SCISSOR   THIS IS GENERAL RULE FOR THE GAME"
   ]
  },
  {
   "cell_type": "code",
   "execution_count": 2,
   "id": "17bc3080",
   "metadata": {},
   "outputs": [],
   "source": [
    "import random,time"
   ]
  },
  {
   "cell_type": "code",
   "execution_count": 3,
   "id": "d10a162f",
   "metadata": {},
   "outputs": [],
   "source": [
    "def rock_paper_scissor():\n",
    "    print(\" SYMBOLS TO ENTER  : rock - R,scissor - S , paper - P\\n\\n\")\n",
    "    user=input(\"USER PLEASE TYPE EITHER R or S or P    \")\n",
    "    if user not in [\"R\",\"P\",\"S\"]:\n",
    "        print(\"WRONG ENTRY      \\n\")\n",
    "        rock_paper_scissor()\n",
    "        return \n",
    "    time.sleep(1)\n",
    "    computerji=random.choice([\"P\",\"S\",\"R\"])\n",
    "    print(\"\\nMY TURN (COMPUTER)\",computerji)\n",
    "    if (user==\"P\" and computerji==\"R\" ) or (user==\"S\" and computerji==\"P\" ) or (user==\"R\" and computerji==\"S\" ):\n",
    "        print(\"THE USER HAS WON THE MATCH\")\n",
    "    elif user==computerji:\n",
    "        print(\"\\nTHE MATCH CAME TO TIE\")\n",
    "    else:\n",
    "        print(\"\\nTHE COMPUTERJI HAS WON THE MATCH\")"
   ]
  },
  {
   "cell_type": "code",
   "execution_count": 4,
   "id": "0fa47de6",
   "metadata": {},
   "outputs": [
    {
     "name": "stdout",
     "output_type": "stream",
     "text": [
      " SYMBOLS TO ENTER  : rock - R,scissor - S , paper - P\n",
      "\n",
      "\n",
      "USER PLEASE TYPE EITHER R or S or P    R\n",
      "\n",
      "MY TURN (COMPUTER) P\n",
      "\n",
      "THE COMPUTERJI HAS WON THE MATCH\n"
     ]
    }
   ],
   "source": [
    "rock_paper_scissor()"
   ]
  },
  {
   "cell_type": "code",
   "execution_count": null,
   "id": "f511dd4e",
   "metadata": {},
   "outputs": [],
   "source": []
  }
 ],
 "metadata": {
  "kernelspec": {
   "display_name": "pandas_venv",
   "language": "python",
   "name": "pandas_venv"
  },
  "language_info": {
   "codemirror_mode": {
    "name": "ipython",
    "version": 3
   },
   "file_extension": ".py",
   "mimetype": "text/x-python",
   "name": "python",
   "nbconvert_exporter": "python",
   "pygments_lexer": "ipython3",
   "version": "3.10.1"
  }
 },
 "nbformat": 4,
 "nbformat_minor": 5
}
