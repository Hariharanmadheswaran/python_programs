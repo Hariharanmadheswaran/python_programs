{
 "cells": [
  {
   "cell_type": "code",
   "execution_count": 1,
   "id": "93ef69d2",
   "metadata": {},
   "outputs": [],
   "source": [
    "import random"
   ]
  },
  {
   "cell_type": "code",
   "execution_count": 2,
   "id": "f0fb3be1",
   "metadata": {},
   "outputs": [],
   "source": [
    "def instruction():                       # general instruction for user before to play\n",
    "    print(\"\"\"  I HAVE STARTED THE GAME BY DEFAULT AFTER FIRST SAFE START\n",
    "            THE INSTRUCTIONS :\n",
    "            \n",
    "            1.THE CELLS START FROM 0 UPTO N*N FOR NTH SQAURE MINESWEEPER.\n",
    "            2.PLEASE DON'T LOCATE THE CELLS WITH FILLED WITH BLANK AND NUMBER\n",
    "            3.LOCATE THE CELL(GIVE INPUT) HAVING DOLLAR SIGN\n",
    "            4.DONT DO BY MISTAKE REPEAT THE CELLS ,I HAVE NOT IMPROVED IT THE CODE \n",
    "            5.THANKS FOR READING....\"\"\")\n",
    "    print(\"THE GAME STARTS NOW!!!!\")\n",
    "    print(\"HAVE THE QUICK VIEW OF MATRIX\")"
   ]
  },
  {
   "cell_type": "code",
   "execution_count": 3,
   "id": "d7f6abb6",
   "metadata": {},
   "outputs": [],
   "source": [
    "# MAKING THE CLASS MINESWEEPER"
   ]
  },
  {
   "cell_type": "code",
   "execution_count": 4,
   "id": "ba234911",
   "metadata": {},
   "outputs": [],
   "source": [
    "class MineSweeper():\n",
    "    def __init__(self,dim):\n",
    "        self.arr=[\" \" for i in range(dim*dim)]      #make array for square table n*n\n",
    "        self.dim=dim                                # only dimension of table is taken as input\n",
    "        self.indexes=[]                             \n",
    "        self.bombs_number=[]                        # array to contain location of bomb\n",
    "        self.random_hint=[]                         # randomly showing the neighbor cells for predicting the cells\n",
    "        \n",
    "    def print_board(self,show=False,final=True):\n",
    "        if len(self.indexes)==0:                       # it is used only for first time, there is no use odf index\n",
    "            for i in self.bombs_number:\n",
    "                self.bombs_neighbor(i)\n",
    "                self.indexes.append(2)\n",
    "            self.random_hint=self.gen_ran_hint()      #randomly showing neighbor cells\n",
    "        val=0\n",
    "        print(\"   \",end=\"\")\n",
    "        print(\" \".join([f\"  {i}  \" for i in range(self.dim)]))     #printing the table\n",
    "        for i in range(self.dim):\n",
    "            print(i ,\"|\",end=\" \")\n",
    "            for j in range(self.dim):\n",
    "                if self.arr[val]==\"*\" and not show:\n",
    "                    print(\" $ \",\"|\",end=\" \")\n",
    "                elif val in self.random_hint and final:\n",
    "                    print(\" $ \",\"|\",end=\" \")\n",
    "                else:\n",
    "                    print('\\033[1m',self.arr[val],'\\033[0m',\"|\",end=\" \")    #\"\\033[1m\" is used to bold the string(taken: stackover flow)\n",
    "                val+=1\n",
    "            print()\n",
    "    def gen_ran_hint(self):                   #func to get random neigbor location\n",
    "            hint=[i for i in range(len(self.arr)) if type(self.arr[i])==int]\n",
    "            len_hint=len(hint)\n",
    "#             print(len_hint,hint)\n",
    "            k=0\n",
    "            aa=[]\n",
    "            while k<=len_hint-len_hint//3:          # only one third is meant for display,all others are hided from users\n",
    "                rand_num=random.choice(hint)\n",
    "                aa.append(rand_num)\n",
    "                hint.remove(rand_num)\n",
    "                k+=1 \n",
    "            return aa\n",
    "    def bombs(self,n=0):                       # randomly fixing the bombs\n",
    "            if n==self.dim:\n",
    "                return\n",
    "            index=[i for i in range(len(self.arr)) if self.arr[i]!=\"*\"]\n",
    "            place_of_bomb=random.choice(index)\n",
    "            self.bombs_number.append(place_of_bomb)\n",
    "            self.arr[place_of_bomb]=\"*\"\n",
    "            self.bombs(n+1)\n",
    "            \n",
    "    def bombs_neighbor(self,num):                  # calculate value of neighbors\n",
    "        for i in [num-self.dim,num,num+self.dim]: \n",
    "            if i<=0 or i>len(self.arr):\n",
    "                continue\n",
    "            for j in [i-1,i+1,i]:       \n",
    "                if (j%self.dim==0 and i%self.dim==self.dim-1) or (j%self.dim==self.dim-1 and i%self.dim==0): #last col +1 becomes next row\n",
    "                    continue                                                                      #cell as neigbor so we need to eliminate\n",
    "                try:                                                                              # that\n",
    "                    if self.arr[j]!=\"*\":    # if specific row or column is not exist \n",
    "                        if type(self.arr[j])==str:\n",
    "                            self.arr[j]=1 \n",
    "                        else:\n",
    "                            self.arr[j]+=1 \n",
    "                except:\n",
    "                    continue\n",
    "    def dig(self,num):                  # used when user start to play\n",
    "        if self.arr[num]==\"*\":\n",
    "            print('\\033[1m',\"BETTER LUCK NEXT TIME\")\n",
    "            self.print_board(show=True,final=False)\n",
    "            return True\n",
    "        else:\n",
    "            print(\"CONGRATS!!  ,KEEP ROCKING \\t\")\n",
    "            if self.arr[num]==\" \":\n",
    "                self.arr[num]=\" \"\n",
    "            else:\n",
    "                self.random_hint.remove(num)\n",
    "        self.print_board()\n",
    "#         return True if self.arr[num]==\"*\" else False"
   ]
  },
  {
   "cell_type": "code",
   "execution_count": 5,
   "id": "d67643b6",
   "metadata": {},
   "outputs": [
    {
     "name": "stdout",
     "output_type": "stream",
     "text": [
      "PLEASE USE NUMBER 3-9 OTHERWISE TABLE STRUCTURE DESTROYS4\n"
     ]
    }
   ],
   "source": [
    "user_input_dimension=int(input(\"PLEASE USE NUMBER 3-9 OTHERWISE TABLE STRUCTURE DESTROYS\"))"
   ]
  },
  {
   "cell_type": "code",
   "execution_count": 9,
   "id": "3c44b166",
   "metadata": {},
   "outputs": [
    {
     "data": {
      "text/plain": [
       "[10, 5, 9, 11]"
      ]
     },
     "execution_count": 9,
     "metadata": {},
     "output_type": "execute_result"
    }
   ],
   "source": [
    "user=MineSweeper(user_input_dimension)              #initialise the class\n",
    "user.bombs()\n",
    "user.bombs_number             # simply sake  of knowing the location of bomb "
   ]
  },
  {
   "cell_type": "code",
   "execution_count": 10,
   "id": "60dabb90",
   "metadata": {},
   "outputs": [
    {
     "name": "stdout",
     "output_type": "stream",
     "text": [
      "     0     1     2     3  \n",
      "0 |  $  |  $  | \u001b[1m 1 \u001b[0m | \u001b[1m   \u001b[0m | \n",
      "1 |  $  |  $  |  $  |  $  | \n",
      "2 |  $  |  $  |  $  |  $  | \n",
      "3 | \u001b[1m 1 \u001b[0m |  $  |  $  |  $  | \n"
     ]
    }
   ],
   "source": [
    "user.print_board()            # compulsory to excute so to get the table ready with bombs "
   ]
  },
  {
   "cell_type": "code",
   "execution_count": 11,
   "id": "b90df068",
   "metadata": {},
   "outputs": [
    {
     "name": "stdout",
     "output_type": "stream",
     "text": [
      "  I HAVE STARTED THE GAME BY DEFAULT AFTER FIRST SAFE START\n",
      "            THE INSTRUCTIONS :\n",
      "            \n",
      "            1.THE CELLS START FROM 0 UPTO N*N FOR NTH SQAURE MINESWEEPER.\n",
      "            2.PLEASE DON'T LOCATE THE CELLS WITH FILLED WITH BLANK AND NUMBER\n",
      "            3.LOCATE THE CELL(GIVE INPUT) HAVING DOLLAR SIGN\n",
      "            4.DONT DO BY MISTAKE REPEAT THE CELLS ,I HAVE NOT IMPROVED IT THE CODE \n",
      "            5.THANKS FOR READING....\n",
      "THE GAME STARTS NOW!!!!\n",
      "HAVE THE QUICK VIEW OF MATRIX\n",
      "     0     1     2     3  \n",
      "0 |  $  |  $  | \u001b[1m 1 \u001b[0m | \u001b[1m   \u001b[0m | \n",
      "1 |  $  |  $  |  $  |  $  | \n",
      "2 |  $  |  $  |  $  |  $  | \n",
      "3 | \u001b[1m 1 \u001b[0m |  $  |  $  |  $  | \n",
      "THE SOLUTION (BOMB BURIED CELLS) [10, 5, 9, 11]\n",
      "0\n",
      "CONGRATS!!  ,KEEP ROCKING \t\n",
      "     0     1     2     3  \n",
      "0 | \u001b[1m 1 \u001b[0m |  $  | \u001b[1m 1 \u001b[0m | \u001b[1m   \u001b[0m | \n",
      "1 |  $  |  $  |  $  |  $  | \n",
      "2 |  $  |  $  |  $  |  $  | \n",
      "3 | \u001b[1m 1 \u001b[0m |  $  |  $  |  $  | \n",
      "THE SOLUTION (BOMB BURIED CELLS) [10, 5, 9, 11]\n",
      "1\n",
      "CONGRATS!!  ,KEEP ROCKING \t\n",
      "     0     1     2     3  \n",
      "0 | \u001b[1m 1 \u001b[0m | \u001b[1m 1 \u001b[0m | \u001b[1m 1 \u001b[0m | \u001b[1m   \u001b[0m | \n",
      "1 |  $  |  $  |  $  |  $  | \n",
      "2 |  $  |  $  |  $  |  $  | \n",
      "3 | \u001b[1m 1 \u001b[0m |  $  |  $  |  $  | \n",
      "THE SOLUTION (BOMB BURIED CELLS) [10, 5, 9, 11]\n",
      "4\n",
      "CONGRATS!!  ,KEEP ROCKING \t\n",
      "     0     1     2     3  \n",
      "0 | \u001b[1m 1 \u001b[0m | \u001b[1m 1 \u001b[0m | \u001b[1m 1 \u001b[0m | \u001b[1m   \u001b[0m | \n",
      "1 | \u001b[1m 2 \u001b[0m |  $  |  $  |  $  | \n",
      "2 |  $  |  $  |  $  |  $  | \n",
      "3 | \u001b[1m 1 \u001b[0m |  $  |  $  |  $  | \n",
      "THE SOLUTION (BOMB BURIED CELLS) [10, 5, 9, 11]\n",
      "5\n",
      "\u001b[1m BETTER LUCK NEXT TIME\n",
      "     0     1     2     3  \n",
      "0 | \u001b[1m 1 \u001b[0m | \u001b[1m 1 \u001b[0m | \u001b[1m 1 \u001b[0m | \u001b[1m   \u001b[0m | \n",
      "1 | \u001b[1m 2 \u001b[0m | \u001b[1m * \u001b[0m | \u001b[1m 4 \u001b[0m | \u001b[1m 2 \u001b[0m | \n",
      "2 | \u001b[1m 2 \u001b[0m | \u001b[1m * \u001b[0m | \u001b[1m * \u001b[0m | \u001b[1m * \u001b[0m | \n",
      "3 | \u001b[1m 1 \u001b[0m | \u001b[1m 2 \u001b[0m | \u001b[1m 3 \u001b[0m | \u001b[1m 2 \u001b[0m | \n"
     ]
    }
   ],
   "source": [
    "instruction()                  # general instruction for user before to play\n",
    "user.print_board()             # to show the fresh table\n",
    "print(\"THE SOLUTION (BOMB BURIED CELLS)\",user.bombs_number)            # guide to win (cheat code), u can make comment line and execute\n",
    "while True:\n",
    "    user_entry=int(input())\n",
    "    s=user.dig(user_entry)\n",
    "    if s is not None:\n",
    "        break \n",
    "    print(\"THE SOLUTION (BOMB BURIED CELLS)\",user.bombs_number)\n",
    "    if len(user.random_hint)==0:\n",
    "        print('\\033[1m',\"HURRAY !! YOU WON THE GAME \")\n",
    "        user.print_board(show=True,final=False)\n",
    "        break"
   ]
  },
  {
   "cell_type": "code",
   "execution_count": null,
   "id": "dec48451",
   "metadata": {},
   "outputs": [],
   "source": []
  }
 ],
 "metadata": {
  "kernelspec": {
   "display_name": "pandas_venv",
   "language": "python",
   "name": "pandas_venv"
  },
  "language_info": {
   "codemirror_mode": {
    "name": "ipython",
    "version": 3
   },
   "file_extension": ".py",
   "mimetype": "text/x-python",
   "name": "python",
   "nbconvert_exporter": "python",
   "pygments_lexer": "ipython3",
   "version": "3.10.1"
  }
 },
 "nbformat": 4,
 "nbformat_minor": 5
}
