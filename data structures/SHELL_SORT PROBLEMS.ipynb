{
 "cells": [
  {
   "cell_type": "markdown",
   "id": "77b82a97",
   "metadata": {},
   "source": [
    "# SHELL SORT "
   ]
  },
  {
   "cell_type": "code",
   "execution_count": 6,
   "id": "07f60427",
   "metadata": {},
   "outputs": [],
   "source": [
    "def shell_sort(arr):\n",
    "    gap=len(arr)//2 \n",
    "    while gap>0:\n",
    "        for i in range(gap,len(arr),gap):\n",
    "            pivot=arr[i]\n",
    "            j=i-gap\n",
    "            while j>=0 and pivot<arr[j]:  # < -- indicates for ascending order\n",
    "                arr[j+gap]=arr[j]\n",
    "                j-=gap \n",
    "            arr[j+gap]=pivot \n",
    "        \n",
    "        gap=gap//2 \n",
    "    return arr"
   ]
  },
  {
   "cell_type": "code",
   "execution_count": 7,
   "id": "ca48402a",
   "metadata": {},
   "outputs": [
    {
     "data": {
      "text/plain": [
       "[4, 9, 11, 17, 21, 25, 29, 32, 38]"
      ]
     },
     "execution_count": 7,
     "metadata": {},
     "output_type": "execute_result"
    }
   ],
   "source": [
    "shell_sort([21,38,29,17,4,25,11,32,9])"
   ]
  },
  {
   "cell_type": "markdown",
   "id": "8a1acf0c",
   "metadata": {},
   "source": [
    "### question 1--shell sort with argument as either ascending order or descending order"
   ]
  },
  {
   "cell_type": "code",
   "execution_count": 15,
   "id": "c824fe96",
   "metadata": {},
   "outputs": [],
   "source": [
    "def shell_sort(arr,ascending=True):    #by default ascending == true\n",
    "    gap=len(arr)//2 \n",
    "    while gap>0:\n",
    "        for i in range(gap,len(arr),gap):\n",
    "            pivot=arr[i]\n",
    "            j=i-gap\n",
    "\n",
    "\n",
    "            while j>=0 and  (pivot<arr[j])==ascending:  \n",
    "                arr[j+gap]=arr[j]\n",
    "                j-=gap \n",
    "            arr[j+gap]=pivot \n",
    "        \n",
    "        gap=gap//2 \n",
    "    return arr"
   ]
  },
  {
   "cell_type": "code",
   "execution_count": 17,
   "id": "f210a7b5",
   "metadata": {},
   "outputs": [
    {
     "data": {
      "text/plain": [
       "[38, 32, 29, 25, 21, 17, 11, 9, 4]"
      ]
     },
     "execution_count": 17,
     "metadata": {},
     "output_type": "execute_result"
    }
   ],
   "source": [
    "shell_sort([21,38,29,17,4,25,11,32,9],ascending=False)"
   ]
  },
  {
   "cell_type": "code",
   "execution_count": 16,
   "id": "8b01afae",
   "metadata": {},
   "outputs": [
    {
     "data": {
      "text/plain": [
       "[4, 9, 11, 17, 21, 25, 29, 32, 38]"
      ]
     },
     "execution_count": 16,
     "metadata": {},
     "output_type": "execute_result"
    }
   ],
   "source": [
    "shell_sort([21,38,29,17,4,25,11,32,9],ascending=True)"
   ]
  },
  {
   "cell_type": "markdown",
   "id": "46b808eb",
   "metadata": {},
   "source": [
    "### question-2 remove duplicate element while sorting "
   ]
  },
  {
   "cell_type": "code",
   "execution_count": 26,
   "id": "5bd38cca",
   "metadata": {},
   "outputs": [],
   "source": [
    "def shell_sort(arr):\n",
    "    gap=len(arr)//2 \n",
    "    \n",
    "    while gap>0:\n",
    "\n",
    "        dup_index=[]      # during every iter find duplicate and eliminate \n",
    "        for i in range(gap,len(arr),gap):\n",
    "            pivot=arr[i]\n",
    "            j=i-gap\n",
    "            while j>=0 and pivot<=arr[j]:\n",
    "                if arr[j]==pivot:\n",
    "                    dup_index.append(j)   # getting only the index of duplicates\n",
    "                arr[j+gap]=arr[j]\n",
    "                j-=gap \n",
    "            arr[j+gap]=pivot \n",
    "    \n",
    "        arr=[arr[i] for i in range(len(arr)) if i not in set(dup_index)] # repeated indices because considering last value \n",
    "        gap=gap//2                                                  #is original and all other before are duplicated\n",
    "    return arr "
   ]
  },
  {
   "cell_type": "code",
   "execution_count": 27,
   "id": "ada31e88",
   "metadata": {},
   "outputs": [
    {
     "data": {
      "text/plain": [
       "[3, 4, 5, 6, 7, 8, 9]"
      ]
     },
     "execution_count": 27,
     "metadata": {},
     "output_type": "execute_result"
    }
   ],
   "source": [
    "shell_sort([9,5,3,4,5,9,6,7,8,9,1])"
   ]
  },
  {
   "cell_type": "code",
   "execution_count": null,
   "id": "8a0446c4",
   "metadata": {},
   "outputs": [],
   "source": []
  },
  {
   "cell_type": "code",
   "execution_count": null,
   "id": "2e2c344e",
   "metadata": {},
   "outputs": [],
   "source": []
  }
 ],
 "metadata": {
  "kernelspec": {
   "display_name": "pandas_venv",
   "language": "python",
   "name": "pandas_venv"
  },
  "language_info": {
   "codemirror_mode": {
    "name": "ipython",
    "version": 3
   },
   "file_extension": ".py",
   "mimetype": "text/x-python",
   "name": "python",
   "nbconvert_exporter": "python",
   "pygments_lexer": "ipython3",
   "version": "3.10.1"
  }
 },
 "nbformat": 4,
 "nbformat_minor": 5
}
