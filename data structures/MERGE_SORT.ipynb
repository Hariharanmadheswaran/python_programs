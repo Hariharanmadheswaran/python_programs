{
 "cells": [
  {
   "cell_type": "code",
   "execution_count": 1,
   "id": "3f590bea",
   "metadata": {},
   "outputs": [],
   "source": [
    "def merge_sort(arr):\n",
    "    if len(arr)<=1:\n",
    "        return arr\n",
    "    middle=len(arr)//2\n",
    "    left=arr[:middle]\n",
    "    right=arr[middle:]\n",
    "    \n",
    "    left=merge_sort(left)\n",
    "    right=merge_sort(right)\n",
    "    return ordering_the_array(left,right)\n",
    "\n",
    "def ordering_the_array(left,right):\n",
    "    i=0\n",
    "    j=0\n",
    "    sorted_arr=[]\n",
    "    while i<len(left) and j<len(right):\n",
    "        if left[i]<right[j]:\n",
    "            sorted_arr.append(left[i])\n",
    "            i+=1\n",
    "        else:\n",
    "            sorted_arr.append(right[j])\n",
    "            j+=1\n",
    "    while i<len(left):\n",
    "             sorted_arr.append(left[i])\n",
    "             i+=1\n",
    "            \n",
    "    while j<len(right):\n",
    "            sorted_arr.append(right[j])\n",
    "            j+=1 \n",
    "    return sorted_arr"
   ]
  },
  {
   "cell_type": "code",
   "execution_count": 2,
   "id": "9129ccea",
   "metadata": {},
   "outputs": [],
   "source": [
    "test_case=[[10,3,15,17,8,23,98,29],\n",
    " [],\n",
    " [3],\n",
    " [9,8,7,6],\n",
    " [1,2,3,4,5]]"
   ]
  },
  {
   "cell_type": "code",
   "execution_count": 3,
   "id": "9f5fe172",
   "metadata": {},
   "outputs": [
    {
     "name": "stdout",
     "output_type": "stream",
     "text": [
      "[3, 8, 10, 15, 17, 23, 29, 98]\n",
      "[]\n",
      "[3]\n",
      "[6, 7, 8, 9]\n",
      "[1, 2, 3, 4, 5]\n"
     ]
    }
   ],
   "source": [
    "for i in test_case:\n",
    "    print(merge_sort(i))"
   ]
  },
  {
   "cell_type": "markdown",
   "id": "00781f09",
   "metadata": {},
   "source": [
    "# question 1"
   ]
  },
  {
   "cell_type": "code",
   "execution_count": 5,
   "id": "a1f65149",
   "metadata": {},
   "outputs": [],
   "source": [
    "elements = [                                                       #input list\n",
    "        { 'name': 'vedanth',   'age': 17, 'time_hours': 1},\n",
    "        { 'name': 'rajab', 'age': 12,  'time_hours': 3},\n",
    "        { 'name': 'vignesh',  'age': 21,  'time_hours': 2.5},\n",
    "        { 'name': 'chinmay',  'age': 24,  'time_hours': 1.5},\n",
    "    ]"
   ]
  },
  {
   "cell_type": "markdown",
   "id": "2012afad",
   "metadata": {},
   "source": [
    "merge_sort(elements, key='time_hours', descending=True)  #input with these arguments"
   ]
  },
  {
   "cell_type": "code",
   "execution_count": 7,
   "id": "4fab6d8a",
   "metadata": {},
   "outputs": [],
   "source": [
    "elements = [                                                        # output list should be\n",
    "        {'name': 'rajab', 'age': 12, 'time_hours': 3},\n",
    "        {'name': 'vignesh', 'age': 21, 'time_hours': 2.5},\n",
    "        {'name': 'chinmay', 'age': 24, 'time_hours': 1.5},\n",
    "        {'name': 'vedanth', 'age': 17, 'time_hours': 1},\n",
    "    ]"
   ]
  },
  {
   "cell_type": "markdown",
   "id": "91c21d6c",
   "metadata": {},
   "source": [
    "# solution"
   ]
  },
  {
   "cell_type": "code",
   "execution_count": 28,
   "id": "82202fbd",
   "metadata": {},
   "outputs": [],
   "source": [
    "def merge_sort(arr,key,descending=False):\n",
    "    if len(arr)<=1:\n",
    "        return arr\n",
    "    middle=len(arr)//2\n",
    "    left=arr[:middle]\n",
    "    right=arr[middle:]\n",
    "    \n",
    "    left=merge_sort(left,key,descending)\n",
    "    right=merge_sort(right,key,descending)\n",
    "    return ordering_the_array(left,right,key,descending)\n",
    "\n",
    "def ordering_the_array(left,right,key,descending):\n",
    "    i=0\n",
    "    j=0\n",
    "    sorted_arr=[]\n",
    "    while i<len(left) and j<len(right):\n",
    "        if (left[i][key]>right[j][key])==descending:\n",
    "            sorted_arr.append(left[i])\n",
    "            i+=1\n",
    "        else:\n",
    "            sorted_arr.append(right[j])\n",
    "            j+=1\n",
    "    while i<len(left):\n",
    "             sorted_arr.append(left[i])\n",
    "             i+=1\n",
    "            \n",
    "    while j<len(right):\n",
    "            sorted_arr.append(right[j])\n",
    "            j+=1 \n",
    "    return sorted_arr"
   ]
  },
  {
   "cell_type": "code",
   "execution_count": 30,
   "id": "1c6c12a0",
   "metadata": {},
   "outputs": [
    {
     "data": {
      "text/plain": [
       "[{'name': 'chinmay', 'age': 24, 'time_hours': 1.5},\n",
       " {'name': 'vignesh', 'age': 21, 'time_hours': 2.5},\n",
       " {'name': 'vedanth', 'age': 17, 'time_hours': 1},\n",
       " {'name': 'rajab', 'age': 12, 'time_hours': 3}]"
      ]
     },
     "execution_count": 30,
     "metadata": {},
     "output_type": "execute_result"
    }
   ],
   "source": [
    "merge_sort(elements,\"age\",descending=True)"
   ]
  },
  {
   "cell_type": "code",
   "execution_count": 31,
   "id": "10d4d174",
   "metadata": {},
   "outputs": [
    {
     "data": {
      "text/plain": [
       "[{'name': 'vedanth', 'age': 17, 'time_hours': 1},\n",
       " {'name': 'chinmay', 'age': 24, 'time_hours': 1.5},\n",
       " {'name': 'vignesh', 'age': 21, 'time_hours': 2.5},\n",
       " {'name': 'rajab', 'age': 12, 'time_hours': 3}]"
      ]
     },
     "execution_count": 31,
     "metadata": {},
     "output_type": "execute_result"
    }
   ],
   "source": [
    "merge_sort(elements,\"time_hours\",descending=False)"
   ]
  },
  {
   "cell_type": "code",
   "execution_count": 32,
   "id": "48759d6a",
   "metadata": {},
   "outputs": [
    {
     "data": {
      "text/plain": [
       "[{'name': 'vignesh', 'age': 21, 'time_hours': 2.5},\n",
       " {'name': 'vedanth', 'age': 17, 'time_hours': 1},\n",
       " {'name': 'rajab', 'age': 12, 'time_hours': 3},\n",
       " {'name': 'chinmay', 'age': 24, 'time_hours': 1.5}]"
      ]
     },
     "execution_count": 32,
     "metadata": {},
     "output_type": "execute_result"
    }
   ],
   "source": [
    "merge_sort(elements,\"name\",descending=True)"
   ]
  },
  {
   "cell_type": "code",
   "execution_count": null,
   "id": "0fe6ded3",
   "metadata": {},
   "outputs": [],
   "source": []
  }
 ],
 "metadata": {
  "kernelspec": {
   "display_name": "pandas_venv",
   "language": "python",
   "name": "pandas_venv"
  },
  "language_info": {
   "codemirror_mode": {
    "name": "ipython",
    "version": 3
   },
   "file_extension": ".py",
   "mimetype": "text/x-python",
   "name": "python",
   "nbconvert_exporter": "python",
   "pygments_lexer": "ipython3",
   "version": "3.10.1"
  }
 },
 "nbformat": 4,
 "nbformat_minor": 5
}
