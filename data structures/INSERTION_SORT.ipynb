{
 "cells": [
  {
   "cell_type": "markdown",
   "id": "9776ae07",
   "metadata": {},
   "source": [
    "# insertion sort"
   ]
  },
  {
   "cell_type": "code",
   "execution_count": 32,
   "id": "32533a30",
   "metadata": {},
   "outputs": [],
   "source": [
    "def insertion_sort(arr):\n",
    "    for i in range(1,len(arr)):\n",
    "        pivot=arr[i] \n",
    "        j=i-1\n",
    "        while j>=0 and pivot<arr[j]:\n",
    "            arr[j+1]=arr[j] \n",
    "            j-=1 \n",
    "        arr[j+1]=pivot \n",
    "    return arr"
   ]
  },
  {
   "cell_type": "code",
   "execution_count": 33,
   "id": "7e4cf0f3",
   "metadata": {},
   "outputs": [
    {
     "data": {
      "text/plain": [
       "[2, 7, 9, 11, 15, 28, 29]"
      ]
     },
     "execution_count": 33,
     "metadata": {},
     "output_type": "execute_result"
    }
   ],
   "source": [
    "insertion_sort([11,9,29,7,2,15,28])"
   ]
  },
  {
   "cell_type": "markdown",
   "id": "48445aa4",
   "metadata": {},
   "source": [
    "# question 1 -insertion sort with argument respect to orders"
   ]
  },
  {
   "cell_type": "code",
   "execution_count": 34,
   "id": "7b4355b8",
   "metadata": {},
   "outputs": [],
   "source": [
    "def insertion_sort(arr,ascending=True):\n",
    "    for i in range(1,len(arr)):\n",
    "        pivot=arr[i] \n",
    "        j=i-1\n",
    "        while j>=0 and (pivot<arr[j])==ascending:\n",
    "            arr[j+1]=arr[j] \n",
    "            j-=1 \n",
    "        arr[j+1]=pivot \n",
    "    return arr"
   ]
  },
  {
   "cell_type": "code",
   "execution_count": 35,
   "id": "ddd99f54",
   "metadata": {},
   "outputs": [
    {
     "data": {
      "text/plain": [
       "[2, 7, 9, 11, 15, 28, 29]"
      ]
     },
     "execution_count": 35,
     "metadata": {},
     "output_type": "execute_result"
    }
   ],
   "source": [
    "insertion_sort([11,9,29,7,2,15,28],ascending=True)"
   ]
  },
  {
   "cell_type": "code",
   "execution_count": 36,
   "id": "4547134f",
   "metadata": {},
   "outputs": [
    {
     "data": {
      "text/plain": [
       "[29, 28, 15, 11, 9, 7, 2]"
      ]
     },
     "execution_count": 36,
     "metadata": {},
     "output_type": "execute_result"
    }
   ],
   "source": [
    "insertion_sort([11,9,29,7,2,15,28],ascending=False)"
   ]
  },
  {
   "cell_type": "code",
   "execution_count": null,
   "id": "81aae11b",
   "metadata": {},
   "outputs": [],
   "source": []
  },
  {
   "cell_type": "markdown",
   "id": "80ea7ca9",
   "metadata": {},
   "source": [
    "# ques - 2 Compute the running median of a sequence of numbers in each iteration of insertion sort"
   ]
  },
  {
   "cell_type": "code",
   "execution_count": 37,
   "id": "d127f2df",
   "metadata": {},
   "outputs": [],
   "source": [
    "arr=[2, 1, 5, 7, 2, 0, 5]\n",
    "# output=2\n",
    "#         1.5\n",
    "#         2\n",
    "#         3.5\n",
    "#         2\n",
    "#         2\n",
    "#         2"
   ]
  },
  {
   "cell_type": "code",
   "execution_count": 38,
   "id": "4b74bb3a",
   "metadata": {},
   "outputs": [],
   "source": [
    "def insertion_sort(arr):\n",
    "    for i in range(len(arr)):\n",
    "        pivot=arr[i] \n",
    "        j=i-1\n",
    "        while j>=0 and pivot<arr[j]:\n",
    "            arr[j+1]=arr[j] \n",
    "            j-=1 \n",
    "        arr[j+1]=pivot \n",
    "\n",
    "        if i%2!=0:\n",
    "            print((arr[i//2]+arr[(i//2)+1])/2)\n",
    "        else:\n",
    "            print(arr[i//2])\n",
    "    return arr"
   ]
  },
  {
   "cell_type": "code",
   "execution_count": 39,
   "id": "a6333ff4",
   "metadata": {},
   "outputs": [
    {
     "name": "stdout",
     "output_type": "stream",
     "text": [
      "2\n",
      "1.5\n",
      "2\n",
      "3.5\n",
      "2\n",
      "2.0\n",
      "2\n"
     ]
    },
    {
     "data": {
      "text/plain": [
       "[0, 1, 2, 2, 5, 5, 7]"
      ]
     },
     "execution_count": 39,
     "metadata": {},
     "output_type": "execute_result"
    }
   ],
   "source": [
    "insertion_sort(arr)"
   ]
  },
  {
   "cell_type": "code",
   "execution_count": null,
   "id": "d878f9f0",
   "metadata": {},
   "outputs": [],
   "source": []
  }
 ],
 "metadata": {
  "kernelspec": {
   "display_name": "pandas_venv",
   "language": "python",
   "name": "pandas_venv"
  },
  "language_info": {
   "codemirror_mode": {
    "name": "ipython",
    "version": 3
   },
   "file_extension": ".py",
   "mimetype": "text/x-python",
   "name": "python",
   "nbconvert_exporter": "python",
   "pygments_lexer": "ipython3",
   "version": "3.10.1"
  }
 },
 "nbformat": 4,
 "nbformat_minor": 5
}
