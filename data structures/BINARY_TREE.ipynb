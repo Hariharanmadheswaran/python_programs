{
 "cells": [
  {
   "cell_type": "markdown",
   "id": "9f76721a",
   "metadata": {},
   "source": [
    "# BINARY TREE"
   ]
  },
  {
   "cell_type": "markdown",
   "id": "b504dc9c",
   "metadata": {},
   "source": [
    "## question 1 - get pre order ,post order ,in order , max_val, minimum value ,search of number"
   ]
  },
  {
   "cell_type": "code",
   "execution_count": 15,
   "id": "6940fd8f",
   "metadata": {},
   "outputs": [
    {
     "name": "stdout",
     "output_type": "stream",
     "text": [
      "The in order traversal  [1, 4, 9, 17, 18, 20, 23, 34]\n",
      "The pre order traversal  [17, 4, 1, 9, 20, 18, 23, 34]\n",
      "The post order traversal  [1, 9, 4, 18, 34, 23, 20, 17]\n",
      "\n",
      "\n",
      "\n",
      "Enter number to search in the tree6\n",
      "binary search of number 6 ---is not present\n"
     ]
    }
   ],
   "source": [
    "class binary_tree():\n",
    "    def __init__(self,data):\n",
    "        self.left=None\n",
    "        self.right=None\n",
    "        self.data=data\n",
    "    def add_child(self,child):\n",
    "        if self.data==child:\n",
    "            return \n",
    "        if self.data>child:\n",
    "            if self.left:\n",
    "                self.left.add_child(child)\n",
    "            else:\n",
    "                self.left=binary_search_tree(child)\n",
    "        if self.data<child:\n",
    "            if self.right:\n",
    "                self.right.add_child(child)\n",
    "            else:\n",
    "                self.right=binary_search_tree(child)     \n",
    "                \n",
    "                \n",
    "    def in_order_traversal(self): \n",
    "        elements=[]\n",
    "        if self.left:\n",
    "            elements=elements+self.left.in_order_traversal()\n",
    "        elements.append(self.data)\n",
    "        if self.right:\n",
    "            elements=elements+self.right.in_order_traversal()\n",
    "        return elements \n",
    "    \n",
    "    def post_order_traversal(self): \n",
    "        elements=[]\n",
    "        if self.left:\n",
    "            elements=elements+self.left.post_order_traversal()\n",
    "        \n",
    "        if self.right:\n",
    "            elements=elements+self.right.post_order_traversal()\n",
    "         \n",
    "        elements.append(self.data)\n",
    "        return elements \n",
    "    \n",
    "    def pre_order_traversal(self): \n",
    "        elements=[]\n",
    "        elements.append(self.data)\n",
    "        if self.left:\n",
    "            elements=elements+self.left.pre_order_traversal()\n",
    "        \n",
    "        if self.right:\n",
    "            elements=elements+self.right.pre_order_traversal()\n",
    "        return elements\n",
    "    \n",
    "    def find_max(self):\n",
    "        if self.right:\n",
    "            return self.right.find_max()\n",
    "        return self.data\n",
    "    \n",
    "    def find_min(self):\n",
    "        if self.left:\n",
    "            return self.left.find_min()\n",
    "        return self.data\n",
    "    \n",
    "    def binary_searching(self,val):\n",
    "        if val==self.data:\n",
    "            return \"---is present\"\n",
    "        if val<self.data:\n",
    "            if self.left:\n",
    "                return self.left.binary_searching(val)\n",
    "        if val>self.data:\n",
    "            if self.right:\n",
    "                return self.right.binary_searching(val)   \n",
    "        return \"---is not present\"\n",
    "    \n",
    "    \n",
    "    \n",
    "    \n",
    "    \n",
    "lists=[17,4,1,20,9,23,18,34]    \n",
    "\n",
    "root=binary_tree(lists[0])\n",
    "for i in range(1,len(lists)):\n",
    "    root.add_child(lists[i])\n",
    "\n",
    "print(\"The in order traversal \",root.in_order_traversal())\n",
    "print(\"The pre order traversal \",root.pre_order_traversal())\n",
    "print(\"The post order traversal \",root.post_order_traversal())\n",
    "print(\"\\n\\n\")\n",
    "\n",
    "\n",
    "\n",
    "number=int(input(\"Enter number to search in the tree\"))\n",
    "print(f\"binary search of number {number}\",root.binary_searching(number))\n",
    "    "
   ]
  },
  {
   "cell_type": "code",
   "execution_count": 14,
   "id": "f6710d24",
   "metadata": {},
   "outputs": [
    {
     "name": "stdout",
     "output_type": "stream",
     "text": [
      "maximum value 34\n",
      "minimum value 1\n"
     ]
    }
   ],
   "source": [
    "print(\"maximum value\",root.find_max())\n",
    "print(\"minimum value\",root.find_min())"
   ]
  },
  {
   "cell_type": "code",
   "execution_count": null,
   "id": "ab36510a",
   "metadata": {},
   "outputs": [],
   "source": []
  }
 ],
 "metadata": {
  "kernelspec": {
   "display_name": "pandas_venv",
   "language": "python",
   "name": "pandas_venv"
  },
  "language_info": {
   "codemirror_mode": {
    "name": "ipython",
    "version": 3
   },
   "file_extension": ".py",
   "mimetype": "text/x-python",
   "name": "python",
   "nbconvert_exporter": "python",
   "pygments_lexer": "ipython3",
   "version": "3.10.1"
  }
 },
 "nbformat": 4,
 "nbformat_minor": 5
}
