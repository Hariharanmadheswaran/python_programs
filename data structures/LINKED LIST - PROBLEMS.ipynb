{
 "cells": [
  {
   "cell_type": "code",
   "execution_count": 1,
   "id": "59c07bb4",
   "metadata": {},
   "outputs": [],
   "source": [
    "class Node():\n",
    "    def __init__(self,data,next=None):\n",
    "        self.data=data\n",
    "        self.next=next \n",
    "        \n",
    "        \n",
    "\n",
    "class  linked_list():\n",
    "    def __init__(self,head=None):\n",
    "        self.head=head\n",
    "        \n",
    "    def add_at_begining(self,data):         # always append at left\n",
    "        self.head=Node(data,self.head)\n",
    "        \n",
    "    def add_at_end(self,data):\n",
    "        if self.head is None:\n",
    "            self.head=Node(data,None)\n",
    "        else:\n",
    "            iteration=self.head\n",
    "            while iteration.next:\n",
    "                iteration=iteration.next \n",
    "            iteration.next=Node(data,None) \n",
    "    def remove_first_match(self,match):\n",
    "        \n",
    "        if self.head.data==match:\n",
    "            self.head=self.head.next\n",
    "            return\n",
    "        iteration=self.head\n",
    "        while iteration.next:\n",
    "            if iteration.next.data==match:\n",
    "                iteration.next=iteration.next.next\n",
    "                return\n",
    "            iteration=iteration.next \n",
    "        return \"no such element\"\n",
    "\n",
    "    def insert_value_after_data(self,value,data):     # values to be insert ,data -already present in linked list\n",
    "        iteration=self.head \n",
    "        \n",
    "        while iteration:\n",
    "            if iteration.data==data:\n",
    "                iteration.next=Node(value,iteration.next) \n",
    "                return \n",
    "            iteration=iteration.next\n",
    "        raise \"no linked list data present\"\n",
    "                \n",
    "    def insert_value_before_data(self,value,data):     # values to be insert ,data -already present in linked list\n",
    "      \n",
    "        if self.head.data==data:\n",
    "            self.head=Node(value,self.head)\n",
    "            return\n",
    "        \n",
    "        iteration=self.head \n",
    "            \n",
    "        while iteration.next:\n",
    "            if iteration.next.data==data:\n",
    "                iteration.next=Node(value,iteration.next) \n",
    "                return \n",
    "            iteration=iteration.next\n",
    "        raise \"no linked list data present\"       \n",
    "        \n",
    "\n",
    "    def print_list(self):           #printing the linked list\n",
    "        iteration=self.head\n",
    "        while iteration:\n",
    "            print(iteration.data,end=\" \")\n",
    "            iteration=iteration.next \n",
    "        \n",
    "\n",
    "        "
   ]
  },
  {
   "cell_type": "code",
   "execution_count": 6,
   "id": "e33a240c",
   "metadata": {},
   "outputs": [
    {
     "name": "stdout",
     "output_type": "stream",
     "text": [
      "7 6 5 8 "
     ]
    }
   ],
   "source": [
    "my_list=linked_list()\n",
    "my_list.add_at_begining(5)\n",
    "my_list.add_at_begining(6)\n",
    "my_list.add_at_end(8)\n",
    "my_list.add_at_begining(7)\n",
    "my_list.print_list()"
   ]
  },
  {
   "cell_type": "code",
   "execution_count": 7,
   "id": "2b3e79a3",
   "metadata": {},
   "outputs": [
    {
     "name": "stdout",
     "output_type": "stream",
     "text": [
      "7 10 6 5 8 "
     ]
    }
   ],
   "source": [
    "my_list.insert_value_after_data(10,7)\n",
    "my_list.print_list()"
   ]
  },
  {
   "cell_type": "code",
   "execution_count": 8,
   "id": "38391888",
   "metadata": {},
   "outputs": [
    {
     "name": "stdout",
     "output_type": "stream",
     "text": [
      "1000 7 10 6 5 8 "
     ]
    }
   ],
   "source": [
    "my_list.insert_value_before_data(1000,7)\n",
    "my_list.print_list()"
   ]
  },
  {
   "cell_type": "markdown",
   "id": "89480f59",
   "metadata": {},
   "source": [
    "# problem 1 - use double linked list"
   ]
  },
  {
   "cell_type": "code",
   "execution_count": 128,
   "id": "37cafeaf",
   "metadata": {},
   "outputs": [],
   "source": [
    "class Node():\n",
    "    def __init__(self,data,previous=None,next=None):\n",
    "        self.data=data\n",
    "        self.previous=previous\n",
    "        self.next=next \n",
    "        \n",
    "        \n",
    "\n",
    "class  linked_list():\n",
    "    def __init__(self,head=None):\n",
    "        self.head=head\n",
    "        \n",
    "    def add_at_begining(self,data):\n",
    "        if self.head is None:\n",
    "            self.head=Node(data,None,None)\n",
    "        else:\n",
    "            iteration=self.head\n",
    "            while iteration.previous:\n",
    "                iteration=iteration.previous\n",
    "            iteration.previous=Node(data,None,iteration) \n",
    "            \n",
    "\n",
    "        \n",
    "    def add_at_end(self,data):\n",
    "        if self.head is None:\n",
    "            self.head=Node(data,None,None)\n",
    "        else:\n",
    "            iteration=self.head\n",
    "            while iteration.next:\n",
    "                iteration=iteration.next \n",
    "            iteration.next=Node(data,iteration,None) \n",
    "            \n",
    "            \n",
    "    def insert_value_before_data(self,value,data):     # values to be insert ,data -already present in linked list\n",
    "      \n",
    "        iteration=self.head\n",
    "        while iteration.previous:\n",
    "            iteration=iteration.previous\n",
    "       \n",
    "        if iteration.data==data:\n",
    "            iteration.previous=Node(value,None,iteration)\n",
    "            return\n",
    "        \n",
    "            \n",
    "        while iteration:\n",
    "            if iteration.data==data:\n",
    "                iteration.previous.next=Node(value,iteration.previous,iteration) \n",
    "                return \n",
    "            iteration=iteration.next\n",
    "        raise \"no linked list data present\" \n",
    "    \n",
    "    def insert_value_after_data(self,value,data):     # values to be insert ,data -already present in linked list\n",
    "      \n",
    "        iteration=self.head\n",
    "        while iteration.previous:\n",
    "            iteration=iteration.previous\n",
    "       \n",
    "       \n",
    "            \n",
    "        while iteration:\n",
    "            if iteration.data==data:\n",
    "                iteration.next=Node(value,iteration,iteration.next) \n",
    "                return \n",
    "            iteration=iteration.next\n",
    "        raise \"no linked list data present\" \n",
    "    \n",
    "    def print_list(self):  \n",
    "        iteration=self.head\n",
    "        while iteration.previous:\n",
    "            iteration=iteration.previous\n",
    "        \n",
    "        while iteration:\n",
    "            print(iteration.data,end=\" \")\n",
    "            iteration=iteration.next"
   ]
  },
  {
   "cell_type": "code",
   "execution_count": 129,
   "id": "c68b9c8e",
   "metadata": {},
   "outputs": [],
   "source": [
    "my_list=linked_list()\n",
    "my_list.add_at_end(5)\n",
    "my_list.add_at_end(5)\n",
    "my_list.add_at_end(5)\n",
    "my_list.add_at_end(2)\n",
    "my_list.add_at_end(5)\n",
    "my_list.add_at_end(1)\n",
    "my_list.add_at_end(2)\n",
    "my_list.add_at_end(3)\n"
   ]
  },
  {
   "cell_type": "code",
   "execution_count": 130,
   "id": "d1314c9a",
   "metadata": {},
   "outputs": [
    {
     "name": "stdout",
     "output_type": "stream",
     "text": [
      "5 5 5 2 5 1 2 3 "
     ]
    }
   ],
   "source": [
    "my_list.print_list()"
   ]
  },
  {
   "cell_type": "code",
   "execution_count": 131,
   "id": "f1d73388",
   "metadata": {},
   "outputs": [
    {
     "name": "stdout",
     "output_type": "stream",
     "text": [
      "3 2 1 5 2 5 5 5 "
     ]
    }
   ],
   "source": [
    "my_list=linked_list()\n",
    "my_list.add_at_begining(5)\n",
    "my_list.add_at_begining(5)\n",
    "my_list.add_at_begining(5)\n",
    "my_list.add_at_begining(2)\n",
    "my_list.add_at_begining(5)\n",
    "my_list.add_at_begining(1)\n",
    "my_list.add_at_begining(2)\n",
    "my_list.add_at_begining(3)\n",
    "my_list.print_list()"
   ]
  },
  {
   "cell_type": "code",
   "execution_count": null,
   "id": "27890446",
   "metadata": {},
   "outputs": [],
   "source": []
  },
  {
   "cell_type": "code",
   "execution_count": 132,
   "id": "292a37ae",
   "metadata": {},
   "outputs": [
    {
     "name": "stdout",
     "output_type": "stream",
     "text": [
      "99 2 5 5 5 5 1 3 "
     ]
    }
   ],
   "source": [
    "my_list=linked_list()\n",
    "my_list.add_at_end(5)\n",
    "my_list.add_at_end(5)\n",
    "my_list.add_at_end(5)\n",
    "my_list.add_at_begining(2)\n",
    "my_list.add_at_end(5)\n",
    "my_list.add_at_end(1)\n",
    "my_list.add_at_begining(99)\n",
    "my_list.add_at_end(3)\n",
    "my_list.print_list()"
   ]
  },
  {
   "cell_type": "code",
   "execution_count": 133,
   "id": "88b28df1",
   "metadata": {},
   "outputs": [
    {
     "name": "stdout",
     "output_type": "stream",
     "text": [
      "100 99 2 5 5 5 5 1 3 "
     ]
    }
   ],
   "source": [
    "my_list.insert_value_before_data(100,99)\n",
    "my_list.print_list()"
   ]
  },
  {
   "cell_type": "code",
   "execution_count": 134,
   "id": "441ec267",
   "metadata": {},
   "outputs": [
    {
     "name": "stdout",
     "output_type": "stream",
     "text": [
      "100 99 2 5 5 5 5 -200 1 3 "
     ]
    }
   ],
   "source": [
    "my_list.insert_value_before_data(-200,1)\n",
    "my_list.print_list()"
   ]
  },
  {
   "cell_type": "code",
   "execution_count": 135,
   "id": "ebc1be06",
   "metadata": {},
   "outputs": [
    {
     "name": "stdout",
     "output_type": "stream",
     "text": [
      "100 -1 99 2 5 5 5 5 -200 1 3 "
     ]
    }
   ],
   "source": [
    "my_list.insert_value_after_data(-1,100)\n",
    "my_list.print_list()"
   ]
  },
  {
   "cell_type": "code",
   "execution_count": 136,
   "id": "13e819cc",
   "metadata": {},
   "outputs": [
    {
     "name": "stdout",
     "output_type": "stream",
     "text": [
      "100 -1 99 2 5 0 5 5 5 -200 1 3 "
     ]
    }
   ],
   "source": [
    "my_list.insert_value_after_data(0,5)\n",
    "my_list.print_list()"
   ]
  },
  {
   "cell_type": "code",
   "execution_count": 137,
   "id": "a766eef2",
   "metadata": {},
   "outputs": [
    {
     "name": "stdout",
     "output_type": "stream",
     "text": [
      "100 -1 99 2 5 0 5 5 5 -200 1 3 9999 "
     ]
    }
   ],
   "source": [
    "my_list.insert_value_after_data(9999,3)\n",
    "my_list.print_list()"
   ]
  }
 ],
 "metadata": {
  "kernelspec": {
   "display_name": "pandas_venv",
   "language": "python",
   "name": "pandas_venv"
  },
  "language_info": {
   "codemirror_mode": {
    "name": "ipython",
    "version": 3
   },
   "file_extension": ".py",
   "mimetype": "text/x-python",
   "name": "python",
   "nbconvert_exporter": "python",
   "pygments_lexer": "ipython3",
   "version": "3.10.1"
  }
 },
 "nbformat": 4,
 "nbformat_minor": 5
}
