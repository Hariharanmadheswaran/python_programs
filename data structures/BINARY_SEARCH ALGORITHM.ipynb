{
 "cells": [
  {
   "cell_type": "markdown",
   "id": "f81bdd3f",
   "metadata": {},
   "source": [
    "# BINARY SEARCH"
   ]
  },
  {
   "cell_type": "code",
   "execution_count": 2,
   "id": "8cb08c71",
   "metadata": {},
   "outputs": [],
   "source": [
    "def binary_search(arr,target,left,right):\n",
    "    middle=(left+right)//2\n",
    "    \n",
    "    if arr[middle]==target:\n",
    "        return middle \n",
    "    \n",
    "    elif arr[middle]<target and left<=right:\n",
    "        return binary_search(arr,target,middle+1,right)\n",
    "   \n",
    "    elif arr[middle]>target and left<=right:\n",
    "        return binary_search(arr,target,left,middle-1)\n",
    "    return \"not present\""
   ]
  },
  {
   "cell_type": "code",
   "execution_count": 10,
   "id": "85d53cc9",
   "metadata": {},
   "outputs": [
    {
     "data": {
      "text/plain": [
       "'not present'"
      ]
     },
     "execution_count": 10,
     "metadata": {},
     "output_type": "execute_result"
    }
   ],
   "source": [
    "arr=[12,15,17,19,21,24,45,67]\n",
    "target=11\n",
    "binary_search(arr,target,0,len(arr)-1)"
   ]
  },
  {
   "cell_type": "markdown",
   "id": "6e743d5f",
   "metadata": {},
   "source": [
    "# question 1 - find  all the occurances of the number "
   ]
  },
  {
   "cell_type": "raw",
   "id": "57fd2502",
   "metadata": {},
   "source": [
    "# input\n",
    "array=[1,4,6,9,11,15,15,15,17,21,34,34,56]\n",
    "number_to_find = 15  \n",
    "# output\n",
    "number 15 in 5,6,7  indices "
   ]
  },
  {
   "cell_type": "code",
   "execution_count": null,
   "id": "4955164a",
   "metadata": {},
   "outputs": [],
   "source": [
    "# since the array follow increase in order we can use binary search"
   ]
  },
  {
   "cell_type": "code",
   "execution_count": 4,
   "id": "4e9d37ad",
   "metadata": {},
   "outputs": [],
   "source": [
    "def binary_search(arr,target,left,right):\n",
    "    middle=(left+right)//2\n",
    "    \n",
    "    if arr[middle]==target:\n",
    "        return middle\n",
    "    \n",
    "    elif arr[middle]<target and left<=right:\n",
    "        return binary_search(arr,target,middle+1,right)\n",
    "   \n",
    "    elif arr[middle]>target and left<=right:\n",
    "        return binary_search(arr,target,left,middle-1)\n",
    "    return \"not present\""
   ]
  },
  {
   "cell_type": "code",
   "execution_count": 15,
   "id": "48c0e225",
   "metadata": {},
   "outputs": [
    {
     "name": "stdout",
     "output_type": "stream",
     "text": [
      "6\n"
     ]
    }
   ],
   "source": [
    "array=[1,4,6,9,11,15,15,15,17,21,34,34,56]\n",
    "target= 15 \n",
    "index=binary_search(array,target,0,len(array)-1)\n",
    "duplicates=[index]\n",
    "\n",
    "i=index+1\n",
    "\n",
    "\n",
    "while array[i]==target:\n",
    "    duplicates.append(i)\n",
    "    i+=1\n",
    "i=index-1\n",
    "\n",
    "while array[i]==target:\n",
    "    duplicates.append(i)\n",
    "    i-=1"
   ]
  },
  {
   "cell_type": "code",
   "execution_count": 16,
   "id": "442e2572",
   "metadata": {},
   "outputs": [
    {
     "data": {
      "text/plain": [
       "[6, 7, 5]"
      ]
     },
     "execution_count": 16,
     "metadata": {},
     "output_type": "execute_result"
    }
   ],
   "source": [
    "duplicates"
   ]
  },
  {
   "cell_type": "code",
   "execution_count": null,
   "id": "fb14d4a9",
   "metadata": {},
   "outputs": [],
   "source": []
  }
 ],
 "metadata": {
  "kernelspec": {
   "display_name": "Python 3 (ipykernel)",
   "language": "python",
   "name": "python3"
  },
  "language_info": {
   "codemirror_mode": {
    "name": "ipython",
    "version": 3
   },
   "file_extension": ".py",
   "mimetype": "text/x-python",
   "name": "python",
   "nbconvert_exporter": "python",
   "pygments_lexer": "ipython3",
   "version": "3.10.1"
  }
 },
 "nbformat": 4,
 "nbformat_minor": 5
}
