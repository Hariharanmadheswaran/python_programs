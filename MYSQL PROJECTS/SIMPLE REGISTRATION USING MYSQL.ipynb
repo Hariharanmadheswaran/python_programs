{
 "cells": [
  {
   "cell_type": "code",
   "execution_count": 1,
   "id": "987da21e",
   "metadata": {},
   "outputs": [
    {
     "name": "stdout",
     "output_type": "stream",
     "text": [
      "SUCCESSFULLY CONNECTED\n"
     ]
    }
   ],
   "source": [
    "import pandas as pd\n",
    "import mysql.connector\n",
    "\n",
    "\n",
    "con=mysql.connector.connect(host=\"localhost\",user=\"root\",password=\"Hari9940877985\",database=\"School\")\n",
    "if con:\n",
    "    print(\"SUCCESSFULLY CONNECTED\")\n",
    "else:\n",
    "    print(\"NOT CONNECTED\")"
   ]
  },
  {
   "cell_type": "code",
   "execution_count": 2,
   "id": "4c926cca",
   "metadata": {},
   "outputs": [],
   "source": [
    "class register(pd.DataFrame):\n",
    "    def __init__(self):\n",
    "        super(register,self).__init__()\n",
    "        self.dataframe=pd.DataFrame\n",
    "        \n",
    "    def insert(self,name,age,city):\n",
    "        wire=con.cursor()\n",
    "        sql=\"insert into Registration (name,age,city) values(%s,%s,%s)\"\n",
    "        gett =(name,age,city)\n",
    "        wire.execute(sql,gett)\n",
    "        con.commit()\n",
    "        print(\"successfully inserted\")\n",
    "\n",
    "    def update(self,name,age,city,id):\n",
    "        wire = con.cursor()\n",
    "        sql = \"update Registration set name=%s,age=%s,city=%s where id_no =%s\"\n",
    "        gett = (name,age,city,id)\n",
    "        wire.execute(sql,gett)\n",
    "        con.commit()\n",
    "        print(\"successfully updated\")\n",
    "    def select(self,id):\n",
    "        wire = con.cursor()\n",
    "        sql = \"select * from Registration\"\n",
    "        wire.execute(sql)\n",
    "        result =wire.fetchall()\n",
    "        print(self.dataframe(result,columns=[\"ID\",\"NAME\",\"AGE\",\"CITY\"]))\n",
    "    def delete(self,id):\n",
    "        wire = con.cursor()\n",
    "        sql=\"delete from Registration where id_no=%s\"\n",
    "        wire.execute(sql,(id,))\n",
    "        con.commit()\n",
    "        print(\"successfully deleted\")"
   ]
  },
  {
   "cell_type": "code",
   "execution_count": 3,
   "id": "d7deeec5",
   "metadata": {},
   "outputs": [],
   "source": [
    "school=register() # initialise the class"
   ]
  },
  {
   "cell_type": "code",
   "execution_count": 4,
   "id": "8e75b9bc",
   "metadata": {
    "scrolled": true
   },
   "outputs": [
    {
     "name": "stdout",
     "output_type": "stream",
     "text": [
      "------------------------------------------------------------\n",
      "                    XYZ SCHOOL REGISTRATION DATABASE                                         \n",
      "------------------------------------------------------------\n",
      "--------------------------------------------------------------------------------------------\n",
      "            please enter the numbers 1 to 4\n",
      "                1.insert the data\n",
      "                2.update the data\n",
      "                3.select the data\n",
      "                4.delete the data\n",
      "3\n",
      "   ID        NAME  AGE          CITY\n",
      "0   1   Hariharan   23         Erode\n",
      "1   2  Srinivasan   23      Namakkal\n",
      "2   3     Kabilan   35        Ramnad\n",
      "3   4         Bai   30  Thirunelveli\n",
      "4   5       Vicky   28      Anthiyur\n",
      "--------------------------------------------------------------------------------------------\n",
      "            please enter the numbers 1 to 4\n",
      "                1.insert the data\n",
      "                2.update the data\n",
      "                3.select the data\n",
      "                4.delete the data\n",
      "5\n",
      "THANK YOU VISIT AGAIN\n"
     ]
    }
   ],
   "source": [
    "print(\"-\"*60)\n",
    "print(\"                    XYZ SCHOOL REGISTRATION DATABASE                                         \")\n",
    "print(\"-\"*60)\n",
    "\n",
    "while True:\n",
    "    print(\"\"\"--------------------------------------------------------------------------------------------\n",
    "            please enter the numbers 1 to 4\n",
    "                1.insert the data\n",
    "                2.update the data\n",
    "                3.select the data\n",
    "                4.delete the data\"\"\")\n",
    "\n",
    "    number=int(input())\n",
    "\n",
    "    if number==1:\n",
    "            name=input(\"enter the name\")\n",
    "            age = int(input(\"enter the age\"))\n",
    "            city = input(\"enter the city\")\n",
    "            school.insert(name,age,city)\n",
    "\n",
    "    elif number ==2:\n",
    "            id = input(\"enter the id\")\n",
    "            name = input(\"enter the name\")\n",
    "            age = int(input(\"enter the age\"))\n",
    "            city = input(\"enter the city\")\n",
    "            school.update(name,age,city,id)\n",
    "\n",
    "    elif number ==3:\n",
    "         school.select(id)\n",
    "\n",
    "    elif number ==4:\n",
    "        id = int(input(\"enter the id\"))\n",
    "        school.delete(id)\n",
    "    else:\n",
    "         break\n",
    "print (\"THANK YOU VISIT AGAIN\")\n",
    "\n"
   ]
  },
  {
   "cell_type": "code",
   "execution_count": 5,
   "id": "7c766300",
   "metadata": {},
   "outputs": [],
   "source": [
    "con.close()"
   ]
  },
  {
   "cell_type": "code",
   "execution_count": null,
   "id": "b750a990",
   "metadata": {},
   "outputs": [],
   "source": []
  }
 ],
 "metadata": {
  "kernelspec": {
   "display_name": "pandas_venv",
   "language": "python",
   "name": "pandas_venv"
  },
  "language_info": {
   "codemirror_mode": {
    "name": "ipython",
    "version": 3
   },
   "file_extension": ".py",
   "mimetype": "text/x-python",
   "name": "python",
   "nbconvert_exporter": "python",
   "pygments_lexer": "ipython3",
   "version": "3.10.1"
  }
 },
 "nbformat": 4,
 "nbformat_minor": 5
}
