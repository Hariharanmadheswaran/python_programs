{
 "cells": [
  {
   "cell_type": "code",
   "execution_count": null,
   "id": "2ac40934",
   "metadata": {},
   "outputs": [],
   "source": [
    "Example 1:\n",
    "\n",
    "Input: nums = [2,3,1,1,4]\n",
    "Output: true\n",
    "Explanation: Jump 1 step from index 0 to 1, then 3 steps to the last index.\n",
    "Example 2:\n",
    "\n",
    "Input: nums = [3,2,1,0,4]\n",
    "Output: false\n",
    "Explanation: You will always arrive at index 3 no matter what. Its maximum jump length is 0, which\n",
    "                makes it impossible to reach the last index."
   ]
  },
  {
   "cell_type": "code",
   "execution_count": 18,
   "id": "e7709a3e",
   "metadata": {},
   "outputs": [
    {
     "name": "stdout",
     "output_type": "stream",
     "text": [
      "False\n"
     ]
    }
   ],
   "source": [
    "def reach_end(arr,index=0,is_path=0):\n",
    "    \n",
    "    if index>len(arr) :\n",
    "        return 0\n",
    "    if index==len(arr)-1:\n",
    "        return 1\n",
    "    \n",
    "    initial=arr[index]\n",
    "    \n",
    "    for i in range(initial):\n",
    "        is_path+=reach_end(arr,index+i+1,is_path)\n",
    "        if is_path==1:\n",
    "            break\n",
    "            \n",
    "    return is_path \n",
    "     \n",
    "    \n",
    "if __name__==\"__main__\":\n",
    "    arr=[3,2,1,0,4]\n",
    "#     arr=[2,3,1,1,4]\n",
    "    print(reach_end(arr)==1)"
   ]
  },
  {
   "cell_type": "code",
   "execution_count": 14,
   "id": "4d9ebf34",
   "metadata": {},
   "outputs": [
    {
     "data": {
      "text/plain": [
       "0"
      ]
     },
     "execution_count": 14,
     "metadata": {},
     "output_type": "execute_result"
    }
   ],
   "source": []
  },
  {
   "cell_type": "code",
   "execution_count": null,
   "id": "f1370cf5",
   "metadata": {},
   "outputs": [],
   "source": []
  }
 ],
 "metadata": {
  "kernelspec": {
   "display_name": "pandas_venv",
   "language": "python",
   "name": "pandas_venv"
  },
  "language_info": {
   "codemirror_mode": {
    "name": "ipython",
    "version": 3
   },
   "file_extension": ".py",
   "mimetype": "text/x-python",
   "name": "python",
   "nbconvert_exporter": "python",
   "pygments_lexer": "ipython3",
   "version": "3.10.1"
  }
 },
 "nbformat": 4,
 "nbformat_minor": 5
}
