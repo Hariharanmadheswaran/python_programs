{
 "cells": [
  {
   "cell_type": "code",
   "execution_count": 14,
   "id": "ab996143",
   "metadata": {},
   "outputs": [
    {
     "name": "stdout",
     "output_type": "stream",
     "text": [
      "THE ARRAY IS  [2, 2, 2, 3] CAN MAKE NON-DECREASING ARRAY  False\n",
      "THE ARRAY IS  [2, 2, 3] CAN MAKE NON-DECREASING ARRAY  True\n",
      "THE ARRAY IS  [1, 1, 2] CAN MAKE NON-DECREASING ARRAY  True\n",
      "THE ARRAY IS  [1, 2, 3] CAN MAKE NON-DECREASING ARRAY  True\n",
      "THE ARRAY IS  [1, 1, 1] CAN MAKE NON-DECREASING ARRAY  False\n"
     ]
    }
   ],
   "source": [
    "\"\"\"\n",
    "MAKE AN ARRAY TO NON - DECREASING ARRAY WITH ATMOST CHANGING ONE ELEMENT----LEETCODE PROBLEM\n",
    "\n",
    "\"\"\"\n",
    "\n",
    "def check_array(arr):\n",
    "    count=0\n",
    "    for i in range(len(arr)-1,0,-1):\n",
    "        if arr[i]<arr[i-1]:\n",
    "            arr[i-1]=arr[i]\n",
    "\n",
    "            count+=1\n",
    "        if count>1:\n",
    "            return False\n",
    "    return True   \n",
    "\n",
    "if __name__==\"__main__\": \n",
    "    arr=[[3,4,2,3],[4,2,3],[4,1,2],[1,2,3],[3,2,1]]\n",
    "    for i in arr:\n",
    "        print(\"THE ARRAY IS \",i,\"CAN MAKE NON-DECREASING ARRAY \",check_array(i))\n",
    "    \n",
    "            \n",
    "    "
   ]
  }
 ],
 "metadata": {
  "kernelspec": {
   "display_name": "pandas_venv",
   "language": "python",
   "name": "pandas_venv"
  },
  "language_info": {
   "codemirror_mode": {
    "name": "ipython",
    "version": 3
   },
   "file_extension": ".py",
   "mimetype": "text/x-python",
   "name": "python",
   "nbconvert_exporter": "python",
   "pygments_lexer": "ipython3",
   "version": "3.10.1"
  }
 },
 "nbformat": 4,
 "nbformat_minor": 5
}
